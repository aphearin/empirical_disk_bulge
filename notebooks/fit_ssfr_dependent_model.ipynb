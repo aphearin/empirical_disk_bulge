{
 "cells": [
  {
   "cell_type": "code",
   "execution_count": 1,
   "metadata": {
    "collapsed": true
   },
   "outputs": [],
   "source": [
    "%matplotlib inline\n",
    "\n",
    "from time import time"
   ]
  },
  {
   "cell_type": "code",
   "execution_count": null,
   "metadata": {
    "collapsed": true
   },
   "outputs": [],
   "source": []
  },
  {
   "cell_type": "code",
   "execution_count": 2,
   "metadata": {
    "collapsed": true
   },
   "outputs": [],
   "source": [
    "from empirical_disk_bulge.observations import load_umachine_sdss_complete\n",
    "\n",
    "sdss = load_umachine_sdss_complete()\n",
    "mask = sdss['type_mendel13'] != 4\n",
    "mask *= sdss['deltaBD_mendel13'] <= 1\n",
    "cut_sdss = sdss[mask]\n",
    "\n",
    "from empirical_disk_bulge.observations import sfr_sequence_bulge_disk_fractions_vs_sm as bt_measurement\n",
    "_result = bt_measurement(cut_sdss['bt'], cut_sdss['sm'], cut_sdss['ssfr'])\n",
    "np.save('frac_bulge_disk_vs_sm_mendel13', np.array(_result))\n",
    "sm_abscissa, frac_disk_dom_all, frac_bulge_dom_all,\\\n",
    "    frac_disk_dom_sfs, frac_bulge_dom_sfs, \\\n",
    "    frac_disk_dom_gv, frac_bulge_dom_gv, \\\n",
    "    frac_disk_dom_q, frac_bulge_dom_q = _result\n",
    "\n",
    "sdss_data_vector = bt_measurement(cut_sdss['bt'], cut_sdss['sm'], cut_sdss['ssfr'], return_data_vector=True)\n",
    "sdss_invcov = np.diag(0.2*sdss_data_vector)\n"
   ]
  },
  {
   "cell_type": "code",
   "execution_count": 14,
   "metadata": {
    "collapsed": true
   },
   "outputs": [],
   "source": [
    "from empirical_disk_bulge.models import ssfr_dependent_disruption\n",
    "\n",
    "def model_prediction(x, sm, ssfr, smh, sfrh, tarr, zobs):\n",
    "    prob1_disrupt = min(1, max(0, x[0]))\n",
    "    prob2_disrupt = min(1, max(0, x[1]))\n",
    "    frac_migration = min(1, max(0, x[2]))\n",
    "    zobs = 0.\n",
    "    \n",
    "    sm_disk, sm_bulge = ssfr_dependent_disruption(sfrh, smh, tarr, zobs,\n",
    "        frac_migration, prob1_disrupt, prob2_disrupt)\n",
    "    \n",
    "    bt = sm_bulge/(sm_disk + sm_bulge)\n",
    "    \n",
    "    return bt_measurement(bt, sm, ssfr, return_data_vector=True)\n",
    "\n",
    "def lnprior(x):\n",
    "    prob1_disrupt, prob2_disrupt, frac_disrupt = x\n",
    "    if (0 <= prob1_disrupt <= 1) and (0 <= prob2_disrupt <= 1) and (0 <= frac_disrupt <= 1):\n",
    "        return 0.0\n",
    "    else:\n",
    "        return -np.inf\n",
    "\n",
    "def lnlike(x, observations, icov, sm, ssfr, smh, sfrh, tarr, zobs):\n",
    "    predictions = model_prediction(x, sm, ssfr, smh, sfrh, tarr, zobs)\n",
    "    diff = predictions-observations\n",
    "    return -np.dot(diff,np.dot(icov,diff))/2.0\n",
    "\n",
    "def lnprob(x, observations, icov, sm, ssfr, smh, sfrh, tarr, zobs):\n",
    "    prior = lnprior(x)\n",
    "    if np.isinf(prior):\n",
    "        return prior\n",
    "    else:\n",
    "        return lnlike(x, observations, icov, sm, ssfr, smh, sfrh, tarr, zobs) + prior"
   ]
  },
  {
   "cell_type": "code",
   "execution_count": 15,
   "metadata": {},
   "outputs": [
    {
     "name": "stdout",
     "output_type": "stream",
     "text": [
      "Total runtime = 7.25 seconds\n"
     ]
    }
   ],
   "source": [
    "from umachine_pyio.load_mock import value_added_mock, load_mock_from_binaries\n",
    "subvolumes = np.random.choice(np.arange(144), 50, replace=False)\n",
    "vamock = value_added_mock(load_mock_from_binaries(subvolumes), 250)\n",
    "sfrh, smh = vamock['sfr_history_main_prog'].data, vamock['sm_history_main_prog'].data\n",
    "sm = np.log10(vamock['obs_sm'].data)\n",
    "ssfr = np.log10(vamock['obs_sfr'].data/vamock['obs_sm'].data)\n",
    "\n",
    "from umachine_pyio.load_mock import get_snapshot_times\n",
    "tarr = get_snapshot_times()\n",
    "\n",
    "zobs = 0."
   ]
  },
  {
   "cell_type": "code",
   "execution_count": 16,
   "metadata": {
    "collapsed": true
   },
   "outputs": [],
   "source": [
    "frac_migration, prob1, prob2 = 0.25, 0.01, 0.1\n",
    "params = frac_migration, prob1, prob2"
   ]
  },
  {
   "cell_type": "code",
   "execution_count": 18,
   "metadata": {},
   "outputs": [
    {
     "name": "stdout",
     "output_type": "stream",
     "text": [
      "1 loop, best of 3: 1.06 s per loop\n"
     ]
    }
   ],
   "source": [
    "%timeit lnprob(params, sdss_data_vector, sdss_invcov, sm, ssfr, smh, sfrh, tarr, zobs)"
   ]
  },
  {
   "cell_type": "code",
   "execution_count": null,
   "metadata": {
    "collapsed": true
   },
   "outputs": [],
   "source": []
  },
  {
   "cell_type": "code",
   "execution_count": null,
   "metadata": {
    "collapsed": true
   },
   "outputs": [],
   "source": []
  },
  {
   "cell_type": "code",
   "execution_count": 23,
   "metadata": {},
   "outputs": [
    {
     "name": "stdout",
     "output_type": "stream",
     "text": [
      "Runtime for burn-in phase of 60 total likelihood evaluations = 52.21 seconds\n"
     ]
    }
   ],
   "source": [
    "import emcee\n",
    "\n",
    "args=[sdss_data_vector, sdss_invcov, sm, ssfr, smh, sfrh, tarr, zobs]\n",
    "ndim = len(params)\n",
    "\n",
    "nwalkers = 2*ndim\n",
    "p0 = np.random.rand(ndim * nwalkers).reshape((nwalkers, ndim))\n",
    "sampler = emcee.EnsembleSampler(nwalkers, ndim, lnprob, args=args)\n",
    "\n",
    "num_burnin = 4\n",
    "start = time()\n",
    "pos0, prob, state = sampler.run_mcmc(p0, num_burnin)\n",
    "sampler.reset()\n",
    "end = time()\n",
    "print(\"Runtime for burn-in phase of {0} total likelihood evaluations = {1:.2f} seconds\".format(\n",
    "    num_burnin*nwalkers, end-start))"
   ]
  },
  {
   "cell_type": "code",
   "execution_count": 44,
   "metadata": {},
   "outputs": [
    {
     "name": "stdout",
     "output_type": "stream",
     "text": [
      "Runtime for MCMC with 60 chain elements = 0.81 minutes\n"
     ]
    }
   ],
   "source": [
    "outname = \"ssfr_dependent_chain.dat\"\n",
    "\n",
    "sep = \"  \"\n",
    "formatter = sep.join(\"{\"+str(i)+\":.4f}\" for i in range(pos0.shape[-1])) + \"  \" + \"{\"+str(pos0.shape[-1])+\":.4f}\\n\"\n",
    "header = \"prob1_disrupt  prob2_disrupt frac_migration  lnprob\\n\"\n",
    "\n",
    "num_iterations = 10\n",
    "\n",
    "start = time()\n",
    "\n",
    "with open(outname, \"wb\") as f:\n",
    "    f.write(header)\n",
    "    for result in sampler.sample(pos0, iterations=num_iterations, storechain=False):\n",
    "        pos, prob, state = result\n",
    "        for a, b in zip(pos, prob):\n",
    "            newline = formatter.format(*np.append(a, b))\n",
    "            f.write(newline)\n",
    "end = time()\n",
    "print(\"Runtime for MCMC with {0} chain elements = {1:.2f} minutes\".format(num_iterations*nwalkers, (end-start)/60.))"
   ]
  },
  {
   "cell_type": "code",
   "execution_count": 46,
   "metadata": {
    "collapsed": true
   },
   "outputs": [],
   "source": [
    "from astropy.table import Table \n",
    "chain = Table.read(outname, format='ascii')"
   ]
  },
  {
   "cell_type": "code",
   "execution_count": 47,
   "metadata": {},
   "outputs": [
    {
     "data": {
      "text/plain": [
       "60"
      ]
     },
     "execution_count": 47,
     "metadata": {},
     "output_type": "execute_result"
    }
   ],
   "source": [
    "len(chain)"
   ]
  },
  {
   "cell_type": "code",
   "execution_count": null,
   "metadata": {
    "collapsed": true
   },
   "outputs": [],
   "source": []
  }
 ],
 "metadata": {
  "kernelspec": {
   "display_name": "Python [conda root]",
   "language": "python",
   "name": "conda-root-py"
  },
  "language_info": {
   "codemirror_mode": {
    "name": "ipython",
    "version": 2
   },
   "file_extension": ".py",
   "mimetype": "text/x-python",
   "name": "python",
   "nbconvert_exporter": "python",
   "pygments_lexer": "ipython2",
   "version": "2.7.13"
  }
 },
 "nbformat": 4,
 "nbformat_minor": 2
}
