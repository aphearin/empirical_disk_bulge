{
 "cells": [
  {
   "cell_type": "code",
   "execution_count": 1,
   "metadata": {
    "collapsed": true
   },
   "outputs": [],
   "source": [
    "%matplotlib inline\n",
    "\n",
    "from umachine_pyio.load_mock import value_added_mock, load_mock_from_binaries\n",
    "subvolumes = np.random.choice(np.arange(144), 50, replace=False)\n",
    "galprops = ('upid', 'obs_sfr', 'icl', 'sfr_history_main_prog', 'mpeak', \n",
    "            'sfr', 'halo_id', 'mvir', 'rvir', 'vx', 'sm', 'vy', 'y', \n",
    "           'x', 'sm_history_main_prog', 'z', 'vz', 'obs_sm','dvmax_zscore_history')\n",
    "vamock = value_added_mock(load_mock_from_binaries(subvolumes, galprops=galprops), 250)\n",
    "print(vamock.keys())\n",
    "sfrh, smh = vamock['sfr_history_main_prog'].data, vamock['sm_history_main_prog'].data\n",
    "sm = np.log10(vamock['obs_sm'].data)\n",
    "ssfr = np.log10(vamock['obs_sfr'].data/vamock['obs_sm'].data)\n",
    "from umachine_pyio.load_mock import get_snapshot_times\n",
    "cosmic_age_array = get_snapshot_times()\n",
    "zobs = 0."
   ]
  },
  {
   "cell_type": "code",
   "execution_count": 2,
   "metadata": {
    "collapsed": true
   },
   "outputs": [],
   "source": [
    "%load_ext Cython"
   ]
  },
  {
   "cell_type": "code",
   "execution_count": 21,
   "metadata": {
    "collapsed": true
   },
   "outputs": [],
   "source": [
    "%%cython \n",
    "\n",
    "cimport cython\n",
    "import numpy as np\n",
    "cimport numpy as cnp\n",
    "from empirical_disk_bulge.models.sfr_integration import (_stellar_mass_integrand_factors,\n",
    "        _index_of_nearest_larger_redshift, bolplanck_redshifts)\n",
    "from libc.math cimport fmax as c_fmax\n",
    "from libc.stdlib cimport rand as c_rand\n",
    "from libc.stdlib cimport RAND_MAX\n",
    "\n",
    "\n",
    "cdef double random_uniform():\n",
    "    cdef double r = c_rand()\n",
    "    return r/RAND_MAX\n",
    "\n",
    "__all__ = ('custom_merger_triggered_disruption_engine', )\n",
    "\n",
    "\n",
    "@cython.boundscheck(False)\n",
    "@cython.wraparound(False)\n",
    "@cython.nonecheck(False)\n",
    "def custom_merger_triggered_disruption_engine(double[:, :] in_situ_sfr_history,\n",
    "        double[:, :] dsm_main_prog,\n",
    "        double[:, :] merger_threshold_history,\n",
    "        cosmic_age_array, redshift_obs, double frac_migration,\n",
    "        return_disruption_history=False, return_formation_histories=False):\n",
    "    \"\"\"\n",
    "    \"\"\"\n",
    "    #  dt_arr stores the array of time steps\n",
    "    #  frac_remaining_arr the mass loss fraction due to stellar evolution\n",
    "    idx_zobs = _index_of_nearest_larger_redshift(redshift_obs, bolplanck_redshifts)\n",
    "    _dt, _frac_remaining = _stellar_mass_integrand_factors(\n",
    "            cosmic_age_array[idx_zobs], cosmic_age_array)\n",
    "    cdef double[:] dt_arr = np.array(_dt, dtype='f8', order='C')\n",
    "    cdef double dt\n",
    "    cdef double[:] frac_remaining_arr = np.array(_frac_remaining, dtype='f8', order='C')\n",
    "    cdef double frac_remaining\n",
    "\n",
    "    #  Determine shape of the star-formation histories\n",
    "    cdef int num_gals = in_situ_sfr_history.shape[0]\n",
    "    cdef int num_time_steps = in_situ_sfr_history.shape[1]\n",
    "\n",
    "    #  Declare output array and loop variables\n",
    "    cdef double[:, :] disk_bulge_result = np.zeros((num_gals, 2), dtype='f8', order='C')\n",
    "    cdef double[:, :] disruption_history = np.zeros_like(in_situ_sfr_history, dtype='f8', order='C')\n",
    "    cdef double sm_bulge, sm_disk, dsm_mergers, sm_tot\n",
    "    cdef int igal, itime\n",
    "\n",
    "    cdef double[:, :] dsm_merger_history = np.zeros_like(in_situ_sfr_history, dtype='f8', order='C')\n",
    "    cdef double[:, :] sm_disk_history = np.zeros_like(in_situ_sfr_history, dtype='f8', order='C')\n",
    "\n",
    "    #  Declare variables needed by the model\n",
    "    cdef double merging_dsm, in_situ_dsm, merger_thresh\n",
    "\n",
    "\n",
    "    #  Outer loop is over rows, one for each galaxy in the mock\n",
    "    for igal in range(num_gals):\n",
    "        sm_bulge = 0.\n",
    "        sm_disk = 0.\n",
    "\n",
    "        #  Inner loop is over columns, one for every timestep\n",
    "        for itime in range(num_time_steps):\n",
    "\n",
    "            #  Retrieve the amount of time that has passed between snapshots\n",
    "            dt = dt_arr[itime]\n",
    "\n",
    "            #  Retrieve the (pre-computed) amount of fractional stellar mass loss\n",
    "            frac_remaining = frac_remaining_arr[itime]\n",
    "\n",
    "            #  Add all in-situ SFR into the disk\n",
    "            in_situ_dsm = in_situ_sfr_history[igal, itime]*dt*1e9\n",
    "            sm_disk += in_situ_dsm*frac_remaining\n",
    "\n",
    "            #  Add all mergers into the bulge\n",
    "            dsm_mergers = dsm_main_prog[igal, itime] - in_situ_dsm\n",
    "            sm_bulge += c_fmax(0., dsm_mergers*frac_remaining)\n",
    "\n",
    "            #  Store merger & disk history\n",
    "            dsm_merger_history[igal, itime] = dsm_mergers\n",
    "            sm_disk_history[igal, itime] = sm_disk\n",
    "\n",
    "            #  Disrupt the disk according to the merger threshold\n",
    "            merger_thresh = merger_threshold_history[igal, itime]\n",
    "            if (dsm_mergers > merger_thresh*sm_disk):\n",
    "                disk_to_bulge_migration_mass = frac_migration*sm_disk\n",
    "                sm_bulge += disk_to_bulge_migration_mass\n",
    "                sm_disk -= disk_to_bulge_migration_mass\n",
    "                disruption_history[igal, itime] = disk_to_bulge_migration_mass\n",
    "\n",
    "        #  Update the output arrays before moving on to the next galaxy\n",
    "        disk_bulge_result[igal, 0] = sm_disk\n",
    "        disk_bulge_result[igal, 1] = sm_bulge\n",
    "\n",
    "    if return_formation_histories:\n",
    "        return disk_bulge_result, np.array(disruption_history), np.array(dsm_merger_history), np.array(sm_disk_history)\n",
    "    elif return_disruption_history:\n",
    "        return disk_bulge_result, disruption_history\n",
    "    else:\n",
    "        return disk_bulge_result\n"
   ]
  },
  {
   "cell_type": "code",
   "execution_count": 29,
   "metadata": {
    "collapsed": true
   },
   "outputs": [],
   "source": [
    "def custom_merger_triggered_disruption(sfr_history, sm_history, merger_threshold_history,\n",
    "        cosmic_age_array, zobs, frac_migration, return_disruption_history=False, \n",
    "                                      return_formation_histories=False):\n",
    "    \"\"\"\n",
    "    \"\"\"\n",
    "    dsm_history = np.insert(np.diff(sm_history), 0, sm_history[:, 0], axis=1)\n",
    "\n",
    "    _engine_output = custom_merger_triggered_disruption_engine(\n",
    "            sfr_history, dsm_history, merger_threshold_history,\n",
    "                cosmic_age_array, zobs, frac_migration,\n",
    "                return_disruption_history=return_disruption_history, \n",
    "                return_formation_histories=return_formation_histories)\n",
    "\n",
    "    if return_formation_histories:\n",
    "        disk_bulge_decomposition, disruption_history, dsm_merger_history, sm_disk_history = _engine_output\n",
    "        disk_bulge_array = np.array(disk_bulge_decomposition)\n",
    "        sm_disk, sm_bulge = disk_bulge_array[:, 0], disk_bulge_array[:, 1]\n",
    "        return sm_disk, sm_bulge, np.array(disruption_history), dsm_merger_history, sm_disk_history\n",
    "    elif return_disruption_history:\n",
    "        disk_bulge_decomposition, disruption_history = _engine_output\n",
    "        disk_bulge_array = np.array(disk_bulge_decomposition)\n",
    "        sm_disk, sm_bulge = disk_bulge_array[:, 0], disk_bulge_array[:, 1]\n",
    "        return sm_disk, sm_bulge, np.array(disruption_history)\n",
    "    else:\n",
    "        disk_bulge_array = np.array(_engine_output)\n",
    "        sm_disk, sm_bulge = disk_bulge_array[:, 0], disk_bulge_array[:, 1]\n",
    "        return sm_disk, sm_bulge\n",
    "\n",
    "def merger_model_prediction(params, sm, ssfr, smh, sfrh, muh, tarr):\n",
    "    frac_migration,  = params\n",
    "\n",
    "    zobs = 0.\n",
    "    sm_disk, sm_bulge, disruption_history = custom_merger_triggered_disruption(sfrh, smh, muh, \n",
    "                                                tarr, zobs, frac_migration, \n",
    "                                                 return_disruption_history=True)\n",
    "    bt = sm_bulge/(sm_disk + sm_bulge)\n",
    "    \n",
    "    return bt_measurement(bt, sm, ssfr, return_data_vector=False), disruption_history\n"
   ]
  },
  {
   "cell_type": "code",
   "execution_count": null,
   "metadata": {
    "collapsed": true
   },
   "outputs": [],
   "source": []
  },
  {
   "cell_type": "code",
   "execution_count": null,
   "metadata": {
    "collapsed": true
   },
   "outputs": [],
   "source": []
  },
  {
   "cell_type": "code",
   "execution_count": 30,
   "metadata": {},
   "outputs": [],
   "source": [
    "muh = np.zeros_like(sfrh) + 0.01\n",
    "frac_migration = 0.35\n",
    "\n",
    "sm_disk, sm_bulge, disruption_history, dsm_merger_history, sm_disk_history = custom_merger_triggered_disruption(sfrh, smh, muh, \n",
    "                                                cosmic_age_array, zobs, frac_migration, \n",
    "                                                 return_formation_histories=True)"
   ]
  },
  {
   "cell_type": "code",
   "execution_count": 31,
   "metadata": {},
   "outputs": [],
   "source": [
    "muh = np.where(sm_disk_history>0, dsm_merger_history/sm_disk_history, 0)"
   ]
  },
  {
   "cell_type": "code",
   "execution_count": 41,
   "metadata": {},
   "outputs": [
    {
     "data": {
      "image/png": "[encoded data removed]",
      "text/plain": [
       "<matplotlib.figure.Figure at 0x115a05110>"
      ]
     },
     "metadata": {},
     "output_type": "display_data"
    }
   ],
   "source": [
    "fig, ax = plt.subplots(1, 1)\n",
    "\n",
    "mask = vamock['sm'] > 10**11\n",
    "__=ax.plot(cosmic_age_array, np.mean(sm_disk_history[mask], axis=0))"
   ]
  },
  {
   "cell_type": "code",
   "execution_count": 45,
   "metadata": {},
   "outputs": [
    {
     "data": {
      "image/png": "[encoded data removed]",
      "text/plain": [
       "<matplotlib.figure.Figure at 0x11e84b650>"
      ]
     },
     "metadata": {},
     "output_type": "display_data"
    }
   ],
   "source": [
    "fig, ax = plt.subplots(1, 1)\n",
    "\n",
    "mask = vamock['sm'] > 10**11\n",
    "__=ax.plot(cosmic_age_array, np.mean(dsm_merger_history[mask], axis=0))"
   ]
  },
  {
   "cell_type": "code",
   "execution_count": null,
   "metadata": {},
   "outputs": [],
   "source": [
    "\n"
   ]
  },
  {
   "cell_type": "code",
   "execution_count": null,
   "metadata": {
    "collapsed": true
   },
   "outputs": [],
   "source": []
  }
 ],
 "metadata": {
  "kernelspec": {
   "display_name": "Python [conda root]",
   "language": "python",
   "name": "conda-root-py"
  },
  "language_info": {
   "codemirror_mode": {
    "name": "ipython",
    "version": 2
   },
   "file_extension": ".py",
   "mimetype": "text/x-python",
   "name": "python",
   "nbconvert_exporter": "python",
   "pygments_lexer": "ipython2",
   "version": "2.7.13"
  }
 },
 "nbformat": 4,
 "nbformat_minor": 2
}
