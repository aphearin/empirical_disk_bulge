{
 "cells": [
  {
   "cell_type": "code",
   "execution_count": 1,
   "metadata": {
    "collapsed": true
   },
   "outputs": [],
   "source": [
    "%matplotlib inline"
   ]
  },
  {
   "cell_type": "code",
   "execution_count": 2,
   "metadata": {
    "collapsed": true
   },
   "outputs": [],
   "source": [
    "from empirical_disk_bulge.observations import load_umachine_sdss_complete\n",
    "\n",
    "sdss = load_umachine_sdss_complete()\n",
    "mask = sdss['type_mendel13'] != 4\n",
    "mask *= sdss['deltaBD_mendel13'] <= 1\n",
    "cut_sdss = sdss[mask]\n",
    "\n",
    "from empirical_disk_bulge.observations import sfr_sequence_bulge_disk_fractions_vs_sm as bt_measurement\n",
    "_result = bt_measurement(cut_sdss['bt'], cut_sdss['sm'], cut_sdss['ssfr'])\n",
    "\n",
    "sm_abscissa_sdss, frac_disk_dom_all_sdss, frac_bulge_dom_all_sdss,\\\n",
    "    frac_disk_dom_sfs_sdss, frac_bulge_dom_sfs_sdss, \\\n",
    "    frac_disk_dom_gv_sdss, frac_bulge_dom_gv_sdss, \\\n",
    "    frac_disk_dom_q_sdss, frac_bulge_dom_q_sdss = _result\n"
   ]
  },
  {
   "cell_type": "code",
   "execution_count": 3,
   "metadata": {},
   "outputs": [
    {
     "name": "stdout",
     "output_type": "stream",
     "text": [
      "Total runtime = 11.95 seconds\n",
      "['upid', 'rvir', 'obs_sfr', 'y', 'dvmax_zscore_history', 'icl', 'sfr_history_main_prog', 'sfr', 'mpeak', 'halo_id', 'vx', 'sm', 'x', 'mvir', 'vy', 'sm_history_main_prog', 'z', 'vz', 'obs_sm', 'halo_hostid', 'host_halo_rvir', 'host_halo_mvir']\n"
     ]
    }
   ],
   "source": [
    "from umachine_pyio.load_mock import value_added_mock, load_mock_from_binaries\n",
    "subvolumes = np.random.choice(np.arange(144), 50, replace=False)\n",
    "galprops = ('upid', 'obs_sfr', 'icl', 'sfr_history_main_prog', 'mpeak', \n",
    "            'sfr', 'halo_id', 'mvir', 'rvir', 'vx', 'sm', 'vy', 'y', \n",
    "           'x', 'sm_history_main_prog', 'z', 'vz', 'obs_sm','dvmax_zscore_history')\n",
    "vamock = value_added_mock(load_mock_from_binaries(subvolumes, galprops=galprops), 250)\n",
    "print(vamock.keys())\n",
    "sfrh, smh = vamock['sfr_history_main_prog'].data, vamock['sm_history_main_prog'].data\n",
    "sm = np.log10(vamock['obs_sm'].data)\n",
    "ssfr = np.log10(vamock['obs_sfr'].data/vamock['obs_sm'].data)\n",
    "dvh = vamock['dvmax_zscore_history']\n",
    "from umachine_pyio.load_mock import get_snapshot_times\n",
    "cosmic_age_array = get_snapshot_times()\n"
   ]
  },
  {
   "cell_type": "code",
   "execution_count": 4,
   "metadata": {},
   "outputs": [],
   "source": [
    "from empirical_disk_bulge.models import ssfr_dependent_disruption\n",
    "# from empirical_disk_bulge.models import merger_triggered_disruption\n",
    "\n",
    "def model_prediction(params, sm, ssfr, smh, sfrh, tarr):\n",
    "    frac_migration, prob1, prob2 = params\n",
    "\n",
    "    zobs = 0.\n",
    "    sm_disk, sm_bulge, disruption_history = ssfr_dependent_disruption(sfrh, smh, tarr, zobs, \n",
    "                                                   frac_migration, prob1, prob2, \n",
    "                                                 return_disruption_history=True)\n",
    "    bt = sm_bulge/(sm_disk + sm_bulge)\n",
    "    \n",
    "    return bt_measurement(bt, sm, ssfr, return_data_vector=False), disruption_history\n",
    "\n",
    "# def vmax_model_prediction(params, sm, ssfr, smh, sfrh, dvh, tarr):\n",
    "#     from empirical_disk_bulge.models import delta_vmax_dependent_disruption\n",
    "\n",
    "#     frac_migration, = params\n",
    "\n",
    "#     zobs = 0.\n",
    "#     sm_disk, sm_bulge, disruption_history = delta_vmax_dependent_disruption(sfrh, smh, dvh, tarr, zobs, \n",
    "#                                                    frac_migration, return_disruption_history=True)\n",
    "#     bt = sm_bulge/(sm_disk + sm_bulge)\n",
    "    \n",
    "#     return bt_measurement(bt, sm, ssfr, return_data_vector=False), disruption_history\n",
    " \n",
    "# def merger_model_prediction(params, sm, ssfr, smh, sfrh, muh, tarr):\n",
    "#     frac_migration,  = params\n",
    "\n",
    "#     zobs = 0.\n",
    "#     sm_disk, sm_bulge, disruption_history = merger_triggered_disruption(sfrh, smh, muh, \n",
    "#                                                 tarr, zobs, frac_migration, \n",
    "#                                                  return_disruption_history=True)\n",
    "#     bt = sm_bulge/(sm_disk + sm_bulge)\n",
    "    \n",
    "#     return bt_measurement(bt, sm, ssfr, return_data_vector=False), disruption_history\n",
    "\n",
    "    "
   ]
  },
  {
   "cell_type": "code",
   "execution_count": 5,
   "metadata": {
    "collapsed": true
   },
   "outputs": [],
   "source": [
    "frac_migration_longchain, prob1_longchain, prob2_longchain = 0.3635, 0.336, 0.0483\n",
    "frac_migration_shortchain, prob1_shortchain, prob2_shortchain = 0.3246, 0.2956, 0.2542\n"
   ]
  },
  {
   "cell_type": "code",
   "execution_count": 6,
   "metadata": {
    "collapsed": true
   },
   "outputs": [],
   "source": [
    "frac_migration, prob1, prob2 = frac_migration_longchain, prob1_longchain, prob2_longchain\n",
    "params1 = frac_migration, prob1, prob2\n",
    "\n",
    "bt_result_model1, disruption_history_model1 = model_prediction(params1, sm, ssfr, smh, sfrh, cosmic_age_array)\n",
    "\n",
    "sm_abscissa_model1, frac_disk_dom_all_model1, frac_bulge_dom_all_model1,\\\n",
    "    frac_disk_dom_sfs_model1, frac_bulge_dom_sfs_model1, \\\n",
    "    frac_disk_dom_gv_model1, frac_bulge_dom_gv_model1, \\\n",
    "    frac_disk_dom_q_model1, frac_bulge_dom_q_model1 = bt_result_model1\n"
   ]
  },
  {
   "cell_type": "code",
   "execution_count": 7,
   "metadata": {},
   "outputs": [],
   "source": [
    "frac_migration, prob1, prob2 = frac_migration_shortchain, prob1_shortchain, prob2_shortchain\n",
    "params2 = frac_migration, prob1, prob2\n",
    "\n",
    "bt_result_model2, disruption_history_model2 = model_prediction(params1, sm, ssfr, smh, sfrh, cosmic_age_array)\n",
    "\n",
    "sm_abscissa_model2, frac_disk_dom_all_model2, frac_bulge_dom_all_model2,\\\n",
    "    frac_disk_dom_sfs_model2, frac_bulge_dom_sfs_model2, \\\n",
    "    frac_disk_dom_gv_model2, frac_bulge_dom_gv_model2, \\\n",
    "    frac_disk_dom_q_model2, frac_bulge_dom_q_model2 = bt_result_model2\n"
   ]
  },
  {
   "cell_type": "code",
   "execution_count": null,
   "metadata": {},
   "outputs": [],
   "source": [
    "\n"
   ]
  },
  {
   "cell_type": "code",
   "execution_count": 8,
   "metadata": {},
   "outputs": [
    {
     "data": {
      "image/png": "[encoded data removed]",
      "text/plain": [
       "<matplotlib.figure.Figure at 0x11d02d610>"
      ]
     },
     "metadata": {},
     "output_type": "display_data"
    }
   ],
   "source": [
    "from scipy.signal import savgol_filter\n",
    "\n",
    "fig, (ax1, ax2) = plt.subplots(1, 2, figsize=(12, 5), sharex=True)\n",
    "\n",
    "a, b = 11, 3\n",
    "\n",
    "fracerr = 0.15\n",
    "ylow, yhigh = ((1-fracerr)*savgol_filter(frac_disk_dom_sfs_sdss, a, b), \n",
    "               (1+fracerr)*savgol_filter(frac_disk_dom_sfs_sdss, a, b))\n",
    "__=ax1.fill_between(sm_abscissa_sdss, ylow, yhigh, color='lightblue', alpha=1)\n",
    "ylow, yhigh = ((1-fracerr)*savgol_filter(frac_disk_dom_gv_sdss, a, b), \n",
    "               (1+fracerr)*savgol_filter(frac_disk_dom_gv_sdss, a, b))\n",
    "__=ax1.fill_between(sm_abscissa_sdss, ylow, yhigh, color='lightgreen', alpha=0.8)\n",
    "ylow, yhigh = ((1-fracerr)*savgol_filter(frac_disk_dom_q_sdss, a, b), \n",
    "               (1+fracerr)*savgol_filter(frac_disk_dom_q_sdss, a, b))\n",
    "__=ax1.fill_between(sm_abscissa_sdss, ylow, yhigh, color='red', alpha=0.8, label='SDSS')\n",
    "\n",
    "ylow, yhigh = ((1-fracerr)*savgol_filter(frac_bulge_dom_sfs_sdss, a, b), \n",
    "               (1+fracerr)*savgol_filter(frac_bulge_dom_sfs_sdss, a, b))\n",
    "__=ax2.fill_between(sm_abscissa_sdss, ylow, yhigh, color='lightblue', alpha=1)\n",
    "ylow, yhigh = ((1-fracerr)*savgol_filter(frac_bulge_dom_gv_sdss, a, b), \n",
    "               (1+fracerr)*savgol_filter(frac_bulge_dom_gv_sdss, a, b))\n",
    "__=ax2.fill_between(sm_abscissa_sdss, ylow, yhigh, color='lightgreen', alpha=0.8)\n",
    "ylow, yhigh = ((1-fracerr)*savgol_filter(frac_bulge_dom_q_sdss, a, b), \n",
    "               (1+fracerr)*savgol_filter(frac_bulge_dom_q_sdss, a, b))\n",
    "__=ax2.fill_between(sm_abscissa_sdss, ylow, yhigh, color='red', alpha=0.8, label='SDSS')\n",
    "\n",
    "xlabel1 = ax1.set_xlabel(r'$\\log M_{\\ast}/M_{\\odot}$', size=15)\n",
    "xlabel2 = ax2.set_xlabel(r'$\\log M_{\\ast}/M_{\\odot}$', size=15)\n",
    "ylabel1 = ax1.set_ylabel(r'disk-dominated fraction', size=15)\n",
    "ylabel2 = ax2.set_ylabel(r'bulge-dominated fraction', size=15)\n",
    "\n",
    "xmin, xmax = 9.75, 11.25\n",
    "xlim1 = ax1.set_xlim(xmin, xmax)\n",
    "xlim2 = ax2.set_xlim(xmin, xmax)\n",
    "ymin, ymax = 0, 1\n",
    "ylim1 = ax1.set_ylim(ymin, ymax)\n",
    "ylim2 = ax2.set_ylim(ymin, ymax)\n",
    "\n",
    "### Model 1\n",
    "__=ax1.plot(sm_abscissa_model1, savgol_filter(frac_disk_dom_sfs_model1, a, b), \n",
    "            color='blue', lw=2)\n",
    "__=ax1.plot(sm_abscissa_model1, savgol_filter(frac_disk_dom_q_model1, a, b), \n",
    "            color='red', lw=2)\n",
    "__=ax1.plot(sm_abscissa_model1, savgol_filter(frac_disk_dom_gv_model1, a, b), \n",
    "            color='green', lw=2, label='best-fit sSFR-dependent model')\n",
    "\n",
    "__=ax2.plot(sm_abscissa_model1, savgol_filter(frac_bulge_dom_sfs_model1, a, b), \n",
    "            color='blue', lw=2)\n",
    "__=ax2.plot(sm_abscissa_model1, savgol_filter(frac_bulge_dom_q_model1, a, b), \n",
    "            color='red', lw=2)\n",
    "__=ax2.plot(sm_abscissa_model1, savgol_filter(frac_bulge_dom_gv_model1, a, b), \n",
    "            color='green', label='best-fit sSFR-dependent model', lw=2)\n",
    "\n",
    "\n",
    "### Model 2\n",
    "__=ax1.plot(sm_abscissa_model2, savgol_filter(frac_disk_dom_sfs_model2, a, b), \n",
    "            '--', color='blue', lw=2)\n",
    "__=ax1.plot(sm_abscissa_model2, savgol_filter(frac_disk_dom_q_model2, a, b), \n",
    "            '--', color='red', lw=2)\n",
    "__=ax1.plot(sm_abscissa_model2, savgol_filter(frac_disk_dom_gv_model2, a, b), \n",
    "            '--', color='green', lw=2, label='alternate model')\n",
    "\n",
    "__=ax2.plot(sm_abscissa_model2, savgol_filter(frac_bulge_dom_sfs_model2, a, b), \n",
    "            '--', color='blue', lw=2)\n",
    "__=ax2.plot(sm_abscissa_model2, savgol_filter(frac_bulge_dom_q_model2, a, b), \n",
    "            '--', color='red', lw=2)\n",
    "__=ax2.plot(sm_abscissa_model2, savgol_filter(frac_bulge_dom_gv_model2, a, b), \n",
    "            '--', color='green', label='alternate model', lw=2)\n",
    "\n",
    "\n",
    "legend2 = ax2.legend()\n",
    "legend2.legendHandles[0].set_color('gray')\n",
    "legend2.legendHandles[1].set_color('gray')\n",
    "\n",
    "title1 = ax1.set_title(r'model: sSFR-dependent disk disruption')\n",
    "title2 = ax2.set_title(r'model: sSFR-dependent disk disruption')\n"
   ]
  },
  {
   "cell_type": "code",
   "execution_count": null,
   "metadata": {},
   "outputs": [],
   "source": [
    "\n"
   ]
  },
  {
   "cell_type": "markdown",
   "metadata": {},
   "source": [
    "# Examine disruption histories"
   ]
  },
  {
   "cell_type": "code",
   "execution_count": null,
   "metadata": {
    "collapsed": true
   },
   "outputs": [],
   "source": [
    "drh1, drh2 = disruption_history_model1, disruption_history_model2"
   ]
  },
  {
   "cell_type": "code",
   "execution_count": null,
   "metadata": {},
   "outputs": [],
   "source": [
    "fig, ax = plt.subplots(1, 1)\n",
    "yscale = ax.set_yscale('log')\n",
    "\n",
    "mask1 = (vamock['sm'] > 10**9.75) & (vamock['sm'] < 10**10)\n",
    "mean_sm1_mask1 = np.mean(vamock[mask1]['sm_history_main_prog'], axis=0)\n",
    "__=ax.plot(cosmic_age_array, mean_sm1_mask1, color='k')\n",
    "\n",
    "mean_drh1_mask1 = np.mean(drh1[mask1], axis=0)\n",
    "__=ax.plot(cosmic_age_array, mean_drh1_mask1, color='red')\n",
    "\n",
    "mean_drh2_mask1 = np.mean(drh2[mask1], axis=0)\n",
    "__=ax.plot(cosmic_age_array, mean_drh2_mask1, color='blue')\n"
   ]
  },
  {
   "cell_type": "code",
   "execution_count": null,
   "metadata": {},
   "outputs": [],
   "source": [
    "mean_drh1_mask1.min(), mean_drh1_mask1.max()"
   ]
  },
  {
   "cell_type": "code",
   "execution_count": null,
   "metadata": {},
   "outputs": [],
   "source": [
    "fig, ax = plt.subplots(1, 1)\n",
    "\n",
    "\n",
    "np.mean(drh1 > 0, axis=0).shape\n",
    "mask1 = (vamock['sm'] > 10**9.75) & (vamock['sm'] < 10**10)\n",
    "\n",
    "__=ax.hist(np.sum(drh1[mask1]>0, axis=1), alpha=0.8)\n",
    "__=ax.hist(np.sum(drh2[mask1]>0, axis=1), alpha=0.8)"
   ]
  },
  {
   "cell_type": "code",
   "execution_count": null,
   "metadata": {},
   "outputs": [],
   "source": [
    "disruption_counts_mask1.min(), disruption_counts_mask1.max()"
   ]
  },
  {
   "cell_type": "code",
   "execution_count": null,
   "metadata": {
    "collapsed": true
   },
   "outputs": [],
   "source": []
  }
 ],
 "metadata": {
  "kernelspec": {
   "display_name": "Python [conda root]",
   "language": "python",
   "name": "conda-root-py"
  },
  "language_info": {
   "codemirror_mode": {
    "name": "ipython",
    "version": 2
   },
   "file_extension": ".py",
   "mimetype": "text/x-python",
   "name": "python",
   "nbconvert_exporter": "python",
   "pygments_lexer": "ipython2",
   "version": "2.7.13"
  }
 },
 "nbformat": 4,
 "nbformat_minor": 2
}
