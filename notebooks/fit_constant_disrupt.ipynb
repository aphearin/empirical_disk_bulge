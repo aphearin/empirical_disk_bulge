{
 "cells": [
  {
   "cell_type": "code",
   "execution_count": 1,
   "metadata": {
    "collapsed": true
   },
   "outputs": [],
   "source": [
    "%matplotlib inline\n",
    "\n",
    "from time import time"
   ]
  },
  {
   "cell_type": "markdown",
   "metadata": {},
   "source": [
    "## Load SDSS data and measure B/T and covariance"
   ]
  },
  {
   "cell_type": "code",
   "execution_count": 2,
   "metadata": {
    "collapsed": true
   },
   "outputs": [],
   "source": [
    "from empirical_disk_bulge.observations import load_umachine_sdss_complete\n",
    "\n",
    "sdss = load_umachine_sdss_complete()\n",
    "mask = sdss['type_mendel13'] != 4\n",
    "mask *= sdss['deltaBD_mendel13'] <= 1\n",
    "cut_sdss = sdss[mask]\n",
    "\n",
    "from empirical_disk_bulge.observations import sfr_sequence_bulge_disk_fractions_vs_sm as bt_measurement\n",
    "_result = bt_measurement(cut_sdss['bt'], cut_sdss['sm'], cut_sdss['ssfr'])\n",
    "np.save('frac_bulge_disk_vs_sm_mendel13', np.array(_result))\n",
    "sm_abscissa, frac_disk_dom_all, frac_bulge_dom_all,\\\n",
    "    frac_disk_dom_sfs, frac_bulge_dom_sfs, \\\n",
    "    frac_disk_dom_gv, frac_bulge_dom_gv, \\\n",
    "    frac_disk_dom_q, frac_bulge_dom_q = _result\n",
    "\n",
    "sdss_data_vector = bt_measurement(cut_sdss['bt'], cut_sdss['sm'], cut_sdss['ssfr'], return_data_vector=True)\n",
    "sdss_invcov = np.diag(0.2*sdss_data_vector)\n"
   ]
  },
  {
   "cell_type": "code",
   "execution_count": 3,
   "metadata": {
    "collapsed": true
   },
   "outputs": [],
   "source": [
    "from empirical_disk_bulge.models import random_constant_disruption\n",
    "\n",
    "def model_prediction(x, sm, ssfr, smh, sfrh, tarr):\n",
    "    prob_disrupt = min(1, max(0, x[0]))\n",
    "    frac_disrupt = min(1, max(0, x[1]))\n",
    "    zobs = 0.\n",
    "    sm_disk, sm_bulge = random_constant_disruption(sfrh, smh, tarr, zobs, \n",
    "                                                   prob_disrupt, frac_disrupt)\n",
    "    bt = sm_bulge/(sm_disk + sm_bulge)\n",
    "    \n",
    "    return bt_measurement(bt, sm, ssfr, return_data_vector=True)\n",
    "\n",
    "def lnprior(x):\n",
    "    prob_disrupt, frac_disrupt = x\n",
    "    if (0 <= prob_disrupt <= 1) and (0 <= frac_disrupt <= 1):\n",
    "        return 0.0\n",
    "    else:\n",
    "        return -np.inf\n",
    "\n",
    "def lnlike(x, observations, icov, sm, ssfr, smh, sfrh, tarr):\n",
    "    predictions = model_prediction(x, sm, ssfr, smh, sfrh, tarr)\n",
    "    diff = predictions-observations\n",
    "    return -np.dot(diff,np.dot(icov,diff))/2.0\n",
    "\n",
    "def lnprob(x, observations, icov, sm, ssfr, smh, sfrh, tarr):\n",
    "    prior = lnprior(x)\n",
    "    if np.isinf(prior):\n",
    "        return prior\n",
    "    else:\n",
    "        return lnlike(x, observations, icov, sm, ssfr, smh, sfrh, tarr) + prior"
   ]
  },
  {
   "cell_type": "code",
   "execution_count": 4,
   "metadata": {},
   "outputs": [
    {
     "name": "stdout",
     "output_type": "stream",
     "text": [
      "Total runtime = 9.86 seconds\n"
     ]
    }
   ],
   "source": [
    "from umachine_pyio.load_mock import value_added_mock, load_mock_from_binaries\n",
    "subvolumes = np.random.choice(np.arange(144), 50, replace=False)\n",
    "vamock = value_added_mock(load_mock_from_binaries(subvolumes), 250)\n",
    "sfrh, smh = vamock['sfr_history_main_prog'].data, vamock['sm_history_main_prog'].data\n",
    "sm = np.log10(vamock['obs_sm'].data)\n",
    "ssfr = np.log10(vamock['obs_sfr'].data/vamock['obs_sm'].data)\n",
    "\n",
    "from umachine_pyio.load_mock import get_snapshot_times\n",
    "cosmic_age_array = get_snapshot_times()"
   ]
  },
  {
   "cell_type": "code",
   "execution_count": 5,
   "metadata": {},
   "outputs": [
    {
     "name": "stdout",
     "output_type": "stream",
     "text": [
      "1 loop, best of 3: 654 ms per loop\n"
     ]
    }
   ],
   "source": [
    "x = np.array((0.5, 0.5))\n",
    "%timeit lnprob(x, sdss_data_vector, sdss_invcov, sm, ssfr, smh, sfrh, cosmic_age_array)"
   ]
  },
  {
   "cell_type": "code",
   "execution_count": 6,
   "metadata": {},
   "outputs": [
    {
     "name": "stdout",
     "output_type": "stream",
     "text": [
      "Runtime for burn-in phase = 30.15 seconds\n"
     ]
    }
   ],
   "source": [
    "import emcee\n",
    "\n",
    "args=[sdss_data_vector, sdss_invcov, sm, ssfr, smh, sfrh, cosmic_age_array]\n",
    "ndim = 2\n",
    "\n",
    "nwalkers = 4\n",
    "p0 = np.random.rand(ndim * nwalkers).reshape((nwalkers, ndim))\n",
    "sampler = emcee.EnsembleSampler(nwalkers, ndim, lnprob, args=args)\n",
    "\n",
    "num_burnin = 15\n",
    "start = time()\n",
    "pos0, prob, state = sampler.run_mcmc(p0, num_burnin)\n",
    "sampler.reset()\n",
    "end = time()\n",
    "print(\"Runtime for burn-in phase = {0:.2f} seconds\".format(end-start))"
   ]
  },
  {
   "cell_type": "code",
   "execution_count": 7,
   "metadata": {},
   "outputs": [
    {
     "name": "stdout",
     "output_type": "stream",
     "text": [
      "Runtime for MCMC = 73.25 minutes\n"
     ]
    }
   ],
   "source": [
    "sep = \"  \"\n",
    "formatter = sep.join(\"{\"+str(i)+\":.4f}\" for i in range(pos0.shape[-1])) + \"  \" + \"{\"+str(pos0.shape[-1])+\":.4f}\\n\"\n",
    "header = \"prob_disrupt  frac_disrupt  lnprob\\n\"\n",
    "\n",
    "num_iterations = 50*40\n",
    "\n",
    "start = time()\n",
    "\n",
    "with open(\"chain.dat\", \"wb\") as f:\n",
    "    f.write(header)\n",
    "    for result in sampler.sample(pos0, iterations=num_iterations, storechain=False):\n",
    "        pos, prob, state = result\n",
    "        for a, b in zip(pos, prob):\n",
    "            newline = formatter.format(*np.append(a, b))\n",
    "            f.write(newline)\n",
    "end = time()\n",
    "print(\"Runtime for MCMC = {0:.2f} minutes\".format((end-start)/60.))"
   ]
  },
  {
   "cell_type": "code",
   "execution_count": 9,
   "metadata": {},
   "outputs": [
    {
     "name": "stdout",
     "output_type": "stream",
     "text": [
      "Mean acceptance fraction: 0.620\n"
     ]
    }
   ],
   "source": [
    "print(\"Mean acceptance fraction: {0:.3f}\".format(np.mean(sampler.acceptance_fraction)))\n",
    "\n",
    "# import corner\n",
    "\n",
    "# samples = sampler.chain[:, 10:, :].reshape((-1, ndim))\n",
    "# fig = corner.corner(samples)"
   ]
  },
  {
   "cell_type": "code",
   "execution_count": 1,
   "metadata": {
    "collapsed": true
   },
   "outputs": [],
   "source": [
    "more chain.dat"
   ]
  },
  {
   "cell_type": "code",
   "execution_count": null,
   "metadata": {
    "collapsed": true
   },
   "outputs": [],
   "source": []
  }
 ],
 "metadata": {
  "kernelspec": {
   "display_name": "Python [conda root]",
   "language": "python",
   "name": "conda-root-py"
  },
  "language_info": {
   "codemirror_mode": {
    "name": "ipython",
    "version": 2
   },
   "file_extension": ".py",
   "mimetype": "text/x-python",
   "name": "python",
   "nbconvert_exporter": "python",
   "pygments_lexer": "ipython2",
   "version": "2.7.13"
  }
 },
 "nbformat": 4,
 "nbformat_minor": 2
}
