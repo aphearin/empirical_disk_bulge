{
 "cells": [
  {
   "cell_type": "code",
   "execution_count": 1,
   "metadata": {
    "collapsed": true
   },
   "outputs": [],
   "source": [
    "%matplotlib inline"
   ]
  },
  {
   "cell_type": "code",
   "execution_count": 2,
   "metadata": {},
   "outputs": [
    {
     "name": "stdout",
     "output_type": "stream",
     "text": [
      "Total runtime = 11.80 seconds\n",
      "109410 galaxies in downsampled mock\n"
     ]
    }
   ],
   "source": [
    "from umachine_pyio.load_mock import value_added_mock, load_mock_from_binaries\n",
    "subvolumes = np.random.choice(np.arange(144), 50, replace=False)\n",
    "vamock = value_added_mock(load_mock_from_binaries(subvolumes), 250)\n",
    "print(\"{0} galaxies in downsampled mock\".format(len(vamock)))"
   ]
  },
  {
   "cell_type": "code",
   "execution_count": 3,
   "metadata": {
    "collapsed": true
   },
   "outputs": [],
   "source": [
    "from empirical_disk_bulge.models.sfr_integration import calculate_merger_histories\n",
    "from umachine_pyio.load_mock import get_snapshot_times\n",
    "cosmic_age_array = get_snapshot_times()\n",
    "sfr_history = vamock['sfr_history_main_prog']\n",
    "sm_history = vamock['sm_history_main_prog']\n",
    "merger_history = calculate_merger_histories(sfr_history, sm_history, cosmic_age_array)"
   ]
  },
  {
   "cell_type": "code",
   "execution_count": 4,
   "metadata": {
    "collapsed": true
   },
   "outputs": [],
   "source": [
    "from empirical_disk_bulge.models import bt_disk_in_situ_bulge_ex_situ\n",
    "\n",
    "vamock['bt'] = bt_disk_in_situ_bulge_ex_situ(sfr_history, merger_history, cosmic_age_array, 0.)"
   ]
  },
  {
   "cell_type": "code",
   "execution_count": 5,
   "metadata": {},
   "outputs": [
    {
     "ename": "AssertionError",
     "evalue": "Bin #0 with M*~9.75 has 0 galaxies",
     "output_type": "error",
     "traceback": [
      "\u001b[0;31m---------------------------------------------------------------------------\u001b[0m",
      "\u001b[0;31mAssertionError\u001b[0m                            Traceback (most recent call last)",
      "\u001b[0;32m<ipython-input-5-fba9b966ff7f>\u001b[0m in \u001b[0;36m<module>\u001b[0;34m()\u001b[0m\n\u001b[1;32m      3\u001b[0m \u001b[0mbt\u001b[0m \u001b[0;34m=\u001b[0m \u001b[0mvamock\u001b[0m\u001b[0;34m[\u001b[0m\u001b[0;34m'bt'\u001b[0m\u001b[0;34m]\u001b[0m\u001b[0;34m\u001b[0m\u001b[0m\n\u001b[1;32m      4\u001b[0m \u001b[0mssfr\u001b[0m \u001b[0;34m=\u001b[0m \u001b[0mnp\u001b[0m\u001b[0;34m.\u001b[0m\u001b[0mlog10\u001b[0m\u001b[0;34m(\u001b[0m\u001b[0mvamock\u001b[0m\u001b[0;34m[\u001b[0m\u001b[0;34m'obs_sfr'\u001b[0m\u001b[0;34m]\u001b[0m\u001b[0;34m/\u001b[0m\u001b[0mvamock\u001b[0m\u001b[0;34m[\u001b[0m\u001b[0;34m'obs_sm'\u001b[0m\u001b[0;34m]\u001b[0m\u001b[0;34m)\u001b[0m\u001b[0;34m\u001b[0m\u001b[0m\n\u001b[0;32m----> 5\u001b[0;31m \u001b[0mresult\u001b[0m \u001b[0;34m=\u001b[0m \u001b[0msfr_sequence_bulge_disk_fractions_vs_sm\u001b[0m\u001b[0;34m(\u001b[0m\u001b[0msm\u001b[0m\u001b[0;34m,\u001b[0m \u001b[0mbt\u001b[0m\u001b[0;34m,\u001b[0m \u001b[0mssfr\u001b[0m\u001b[0;34m)\u001b[0m\u001b[0;34m\u001b[0m\u001b[0m\n\u001b[0m",
      "\u001b[0;32m/Users/aphearin/work/repositories/python/empirical_disk_bulge/build/lib.macosx-10.9-x86_64-2.7/empirical_disk_bulge/observations/binned_pdfs.pyc\u001b[0m in \u001b[0;36msfr_sequence_bulge_disk_fractions_vs_sm\u001b[0;34m(bt, sm, ssfr, sm_abscissa, domination_vals, sigma_sm, gv_range)\u001b[0m\n\u001b[1;32m    101\u001b[0m \u001b[0;34m\u001b[0m\u001b[0m\n\u001b[1;32m    102\u001b[0m     frac_disk_dom_all, frac_bulge_dom_all = bulge_disk_fractions_vs_sm(\n\u001b[0;32m--> 103\u001b[0;31m             bt, sm, sm_abscissa, domination_vals, sigma_sm)\n\u001b[0m\u001b[1;32m    104\u001b[0m     frac_disk_dom_sfs, frac_bulge_dom_sfs = bulge_disk_fractions_vs_sm(\n\u001b[1;32m    105\u001b[0m             sfs_bt, sfs_sm, sm_abscissa, domination_vals, sigma_sm)\n",
      "\u001b[0;32m/Users/aphearin/work/repositories/python/empirical_disk_bulge/build/lib.macosx-10.9-x86_64-2.7/empirical_disk_bulge/observations/binned_pdfs.pyc\u001b[0m in \u001b[0;36mbulge_disk_fractions_vs_sm\u001b[0;34m(bt, sm, sm_abscissa, domination_vals, sigma_sm)\u001b[0m\n\u001b[1;32m     71\u001b[0m         \u001b[0mnbin_total\u001b[0m \u001b[0;34m=\u001b[0m \u001b[0mnp\u001b[0m\u001b[0;34m.\u001b[0m\u001b[0mcount_nonzero\u001b[0m\u001b[0;34m(\u001b[0m\u001b[0msm_mask\u001b[0m\u001b[0;34m)\u001b[0m\u001b[0;34m\u001b[0m\u001b[0m\n\u001b[1;32m     72\u001b[0m         \u001b[0mmsg\u001b[0m \u001b[0;34m=\u001b[0m \u001b[0;34m\"Bin #{0} with M*~{1:.2f} has {2} galaxies\"\u001b[0m\u001b[0;34m\u001b[0m\u001b[0m\n\u001b[0;32m---> 73\u001b[0;31m         \u001b[0;32massert\u001b[0m \u001b[0mnbin_total\u001b[0m \u001b[0;34m>\u001b[0m \u001b[0;36m25\u001b[0m\u001b[0;34m,\u001b[0m \u001b[0mmsg\u001b[0m\u001b[0;34m.\u001b[0m\u001b[0mformat\u001b[0m\u001b[0;34m(\u001b[0m\u001b[0mi\u001b[0m\u001b[0;34m,\u001b[0m \u001b[0msm_mid\u001b[0m\u001b[0;34m,\u001b[0m \u001b[0mnbin_total\u001b[0m\u001b[0;34m)\u001b[0m\u001b[0;34m\u001b[0m\u001b[0m\n\u001b[0m\u001b[1;32m     74\u001b[0m         \u001b[0mnbin_disk_dom\u001b[0m \u001b[0;34m=\u001b[0m \u001b[0mnp\u001b[0m\u001b[0;34m.\u001b[0m\u001b[0mcount_nonzero\u001b[0m\u001b[0;34m(\u001b[0m\u001b[0mbt\u001b[0m\u001b[0;34m[\u001b[0m\u001b[0msm_mask\u001b[0m\u001b[0;34m]\u001b[0m \u001b[0;34m<\u001b[0m \u001b[0mdomination_vals\u001b[0m\u001b[0;34m[\u001b[0m\u001b[0;36m0\u001b[0m\u001b[0;34m]\u001b[0m\u001b[0;34m)\u001b[0m\u001b[0;34m\u001b[0m\u001b[0m\n\u001b[1;32m     75\u001b[0m         \u001b[0mnbin_bulge_dom\u001b[0m \u001b[0;34m=\u001b[0m \u001b[0mnp\u001b[0m\u001b[0;34m.\u001b[0m\u001b[0mcount_nonzero\u001b[0m\u001b[0;34m(\u001b[0m\u001b[0mbt\u001b[0m\u001b[0;34m[\u001b[0m\u001b[0msm_mask\u001b[0m\u001b[0;34m]\u001b[0m \u001b[0;34m>\u001b[0m \u001b[0mdomination_vals\u001b[0m\u001b[0;34m[\u001b[0m\u001b[0;36m1\u001b[0m\u001b[0;34m]\u001b[0m\u001b[0;34m)\u001b[0m\u001b[0;34m\u001b[0m\u001b[0m\n",
      "\u001b[0;31mAssertionError\u001b[0m: Bin #0 with M*~9.75 has 0 galaxies"
     ]
    }
   ],
   "source": [
    "from empirical_disk_bulge.observations import sfr_sequence_bulge_disk_fractions_vs_sm\n",
    "sm = np.log10(vamock['obs_sm'])\n",
    "bt = vamock['bt']\n",
    "ssfr = np.log10(vamock['obs_sfr']/vamock['obs_sm'])\n",
    "result = sfr_sequence_bulge_disk_fractions_vs_sm(sm, bt, ssfr)"
   ]
  },
  {
   "cell_type": "code",
   "execution_count": 6,
   "metadata": {
    "collapsed": true
   },
   "outputs": [],
   "source": [
    "from empirical_disk_bulge.observations.binned_pdfs import gaussian_kernel_selection\n",
    "\n",
    "mask = gaussian_kernel_selection(sm, 9.75, 0.1)"
   ]
  },
  {
   "cell_type": "code",
   "execution_count": 7,
   "metadata": {},
   "outputs": [],
   "source": [
    "from empirical_disk_bulge.observations.binned_pdfs import bulge_disk_fractions_vs_sm\n",
    "domination_vals = (0.25, 0.75)\n",
    "sigma_sm = 0.1\n",
    "sm_abscissa = (9.75, 10.25, 11)\n",
    "sm_abscissa=np.arange(9.75, 11.35, 0.1)\n",
    "frac_disk_dom_all, frac_bulge_dom_all = bulge_disk_fractions_vs_sm(bt, sm, sm_abscissa, domination_vals, sigma_sm)"
   ]
  },
  {
   "cell_type": "code",
   "execution_count": 8,
   "metadata": {},
   "outputs": [
    {
     "data": {
      "image/png": "[encoded data removed]",
      "text/plain": [
       "<matplotlib.figure.Figure at 0x11a1dec10>"
      ]
     },
     "metadata": {},
     "output_type": "display_data"
    }
   ],
   "source": [
    "fig, ax = plt.subplots(1, 1)\n",
    "\n",
    "__=ax.plot(sm_abscissa, frac_bulge_dom_all, color='red')\n",
    "__=ax.plot(sm_abscissa, frac_disk_dom_all, color='blue')"
   ]
  },
  {
   "cell_type": "code",
   "execution_count": 9,
   "metadata": {},
   "outputs": [
    {
     "data": {
      "image/png": "[encoded data removed]",
      "text/plain": [
       "<matplotlib.figure.Figure at 0x1198cedd0>"
      ]
     },
     "metadata": {},
     "output_type": "display_data"
    }
   ],
   "source": [
    "fig, ax = plt.subplots(1, 1)\n",
    "\n",
    "bins = np.linspace(0, 1, 25)\n",
    "\n",
    "mask = vamock['obs_sm'] < 10**10\n",
    "__=ax.hist(vamock['bt'][mask], bins=bins, normed=True, color='blue')\n",
    "\n",
    "mask = vamock['obs_sm'] > 10**11\n",
    "__=ax.hist(vamock['bt'][mask], bins=bins, normed=True, color='red')\n",
    "\n",
    "mask = (vamock['obs_sm'] < 10**11.1) & (vamock['obs_sm'] > 10**11)\n",
    "__=ax.hist(vamock['bt'][mask], bins=bins, normed=True, color='green')\n"
   ]
  },
  {
   "cell_type": "code",
   "execution_count": 10,
   "metadata": {},
   "outputs": [
    {
     "data": {
      "text/plain": [
       "0.73598652522633567"
      ]
     },
     "execution_count": 10,
     "metadata": {},
     "output_type": "execute_result"
    }
   ],
   "source": [
    "np.mean(vamock['bt'][mask])"
   ]
  },
  {
   "cell_type": "code",
   "execution_count": 13,
   "metadata": {},
   "outputs": [],
   "source": [
    "from empirical_disk_bulge.models.sfr_integration import in_situ_fraction\n",
    "sfr_history = vamock['sfr_history_main_prog']\n",
    "sm_history = vamock['sm_history_main_prog']\n",
    "redshift = 0.\n",
    "frac_in_situ = in_situ_fraction(sfr_history, sm_history, redshift, cosmic_age_array)\n",
    "vamock['frac_in_situ'] = frac_in_situ"
   ]
  },
  {
   "cell_type": "code",
   "execution_count": 18,
   "metadata": {},
   "outputs": [
    {
     "data": {
      "image/png": "[encoded data removed]",
      "text/plain": [
       "<matplotlib.figure.Figure at 0x11a9c0e10>"
      ]
     },
     "metadata": {},
     "output_type": "display_data"
    }
   ],
   "source": [
    "fig, ax = plt.subplots(1, 1)\n",
    "\n",
    "bins = np.linspace(0, 1, 50)\n",
    "\n",
    "mask = vamock['obs_sm'] < 10**10\n",
    "__=ax.hist(1-vamock['frac_in_situ'][mask], bins=bins, normed=True)\n",
    "\n",
    "mask = vamock['obs_sm'] > 10**11\n",
    "__=ax.hist(1-vamock['frac_in_situ'][mask], bins=bins, normed=True)\n"
   ]
  },
  {
   "cell_type": "code",
   "execution_count": 20,
   "metadata": {},
   "outputs": [
    {
     "data": {
      "text/plain": [
       "(0.64148684936774636, 0.81339072984555372)"
      ]
     },
     "execution_count": 20,
     "metadata": {},
     "output_type": "execute_result"
    }
   ],
   "source": [
    "np.mean(vamock['frac_in_situ'][mask]), np.mean(vamock['bt'][mask])"
   ]
  },
  {
   "cell_type": "code",
   "execution_count": null,
   "metadata": {
    "collapsed": true
   },
   "outputs": [],
   "source": []
  }
 ],
 "metadata": {
  "kernelspec": {
   "display_name": "Python [conda root]",
   "language": "python",
   "name": "conda-root-py"
  },
  "language_info": {
   "codemirror_mode": {
    "name": "ipython",
    "version": 2
   },
   "file_extension": ".py",
   "mimetype": "text/x-python",
   "name": "python",
   "nbconvert_exporter": "python",
   "pygments_lexer": "ipython2",
   "version": "2.7.13"
  }
 },
 "nbformat": 4,
 "nbformat_minor": 2
}
