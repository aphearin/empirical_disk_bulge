{
 "cells": [
  {
   "cell_type": "code",
   "execution_count": 1,
   "metadata": {
    "collapsed": true
   },
   "outputs": [],
   "source": [
    "%matplotlib inline"
   ]
  },
  {
   "cell_type": "code",
   "execution_count": 2,
   "metadata": {},
   "outputs": [
    {
     "name": "stdout",
     "output_type": "stream",
     "text": [
      "Total runtime = 11.71 seconds\n",
      "109010 galaxies in downsampled mock\n"
     ]
    }
   ],
   "source": [
    "from umachine_pyio.load_mock import value_added_mock, load_mock_from_binaries\n",
    "subvolumes = np.random.choice(np.arange(144), 50, replace=False)\n",
    "vamock = value_added_mock(load_mock_from_binaries(subvolumes), 250)\n",
    "print(\"{0} galaxies in downsampled mock\".format(len(vamock)))"
   ]
  },
  {
   "cell_type": "code",
   "execution_count": 3,
   "metadata": {
    "collapsed": true
   },
   "outputs": [],
   "source": [
    "from empirical_disk_bulge.models.sfr_integration import calculate_merger_histories\n",
    "from umachine_pyio.load_mock import get_snapshot_times\n",
    "cosmic_age_array = get_snapshot_times()\n",
    "sfr_history = vamock['sfr_history_main_prog']\n",
    "sm_history = vamock['sm_history_main_prog']\n",
    "# merger_history = calculate_merger_histories(sfr_history, sm_history, cosmic_age_array)"
   ]
  },
  {
   "cell_type": "code",
   "execution_count": 6,
   "metadata": {},
   "outputs": [],
   "source": [
    "from empirical_disk_bulge.models import disk_in_situ_bulge_ex_situ_decomposition\n",
    "merger_history = np.zeros_like(sfr_history)\n",
    "sm_disk, sm_bulge = disk_in_situ_bulge_ex_situ_decomposition(sfr_history, merger_history, cosmic_age_array, 0.)"
   ]
  },
  {
   "cell_type": "code",
   "execution_count": 11,
   "metadata": {},
   "outputs": [
    {
     "data": {
      "text/plain": [
       "(0.0026627511946874932, 0.92416713886950075, 1.0040264752482169)"
      ]
     },
     "execution_count": 11,
     "metadata": {},
     "output_type": "execute_result"
    }
   ],
   "source": [
    "frac_disk = sm_disk/sm_history[:, -1]\n",
    "frac_disk.min(), frac_disk.mean(), frac_disk.max()"
   ]
  },
  {
   "cell_type": "code",
   "execution_count": 12,
   "metadata": {},
   "outputs": [],
   "source": [
    "from empirical_disk_bulge.models.sfr_integration import in_situ_fraction\n",
    "sfr_history = vamock['sfr_history_main_prog']\n",
    "sm_history = vamock['sm_history_main_prog']\n",
    "redshift = 0.\n",
    "frac_in_situ = in_situ_fraction(sfr_history, sm_history, redshift, cosmic_age_array)\n"
   ]
  },
  {
   "cell_type": "code",
   "execution_count": 25,
   "metadata": {},
   "outputs": [
    {
     "name": "stdout",
     "output_type": "stream",
     "text": [
      "0.995 of galaxies have Fdisk and Fin-situ that agree within 0.010\n"
     ]
    },
    {
     "data": {
      "image/png": "[encoded data removed]",
      "text/plain": [
       "<matplotlib.figure.Figure at 0x123750550>"
      ]
     },
     "metadata": {},
     "output_type": "display_data"
    }
   ],
   "source": [
    "fig, ax = plt.subplots(1, 1)\n",
    "\n",
    "__=ax.hist(frac_disk-frac_in_situ, bins=20)\n",
    "tol = 0.01\n",
    "correct_fraction = np.count_nonzero(np.abs(frac_disk-frac_in_situ) < tol)/float(len(frac_disk))\n",
    "\n",
    "msg = \"{0:.3f} of galaxies have F_disk and F_in-situ that agree within {1:.3f}\"\n",
    "print(msg.format(correct_fraction, tol))"
   ]
  },
  {
   "cell_type": "code",
   "execution_count": null,
   "metadata": {},
   "outputs": [],
   "source": [
    "from empirical_disk_bulge.observations import sfr_sequence_bulge_disk_fractions_vs_sm\n",
    "sm = np.log10(vamock['obs_sm'])\n",
    "bt = vamock['bt']\n",
    "ssfr = np.log10(vamock['obs_sfr']/vamock['obs_sm'])\n",
    "result = sfr_sequence_bulge_disk_fractions_vs_sm(sm, bt, ssfr)"
   ]
  },
  {
   "cell_type": "code",
   "execution_count": null,
   "metadata": {
    "collapsed": true
   },
   "outputs": [],
   "source": [
    "from empirical_disk_bulge.observations.binned_pdfs import gaussian_kernel_selection\n",
    "\n",
    "mask = gaussian_kernel_selection(sm, 9.75, 0.1)"
   ]
  },
  {
   "cell_type": "code",
   "execution_count": null,
   "metadata": {},
   "outputs": [],
   "source": [
    "from empirical_disk_bulge.observations.binned_pdfs import bulge_disk_fractions_vs_sm\n",
    "domination_vals = (0.25, 0.75)\n",
    "sigma_sm = 0.1\n",
    "sm_abscissa = (9.75, 10.25, 11)\n",
    "sm_abscissa=np.arange(9.75, 11.35, 0.1)\n",
    "frac_disk_dom_all, frac_bulge_dom_all = bulge_disk_fractions_vs_sm(bt, sm, sm_abscissa, domination_vals, sigma_sm)"
   ]
  },
  {
   "cell_type": "code",
   "execution_count": null,
   "metadata": {},
   "outputs": [],
   "source": [
    "fig, ax = plt.subplots(1, 1)\n",
    "\n",
    "__=ax.plot(sm_abscissa, frac_bulge_dom_all, color='red')\n",
    "__=ax.plot(sm_abscissa, frac_disk_dom_all, color='blue')"
   ]
  },
  {
   "cell_type": "code",
   "execution_count": null,
   "metadata": {},
   "outputs": [],
   "source": [
    "fig, ax = plt.subplots(1, 1)\n",
    "\n",
    "bins = np.linspace(0, 1, 25)\n",
    "\n",
    "mask = vamock['obs_sm'] < 10**10\n",
    "__=ax.hist(vamock['bt'][mask], bins=bins, normed=True, color='blue')\n",
    "\n",
    "mask = vamock['obs_sm'] > 10**11\n",
    "__=ax.hist(vamock['bt'][mask], bins=bins, normed=True, color='red')\n",
    "\n",
    "mask = (vamock['obs_sm'] < 10**11.1) & (vamock['obs_sm'] > 10**11)\n",
    "__=ax.hist(vamock['bt'][mask], bins=bins, normed=True, color='green')\n"
   ]
  },
  {
   "cell_type": "code",
   "execution_count": null,
   "metadata": {},
   "outputs": [],
   "source": [
    "np.mean(vamock['bt'][mask])"
   ]
  },
  {
   "cell_type": "code",
   "execution_count": null,
   "metadata": {},
   "outputs": [],
   "source": [
    "from empirical_disk_bulge.models.sfr_integration import in_situ_fraction\n",
    "sfr_history = vamock['sfr_history_main_prog']\n",
    "sm_history = vamock['sm_history_main_prog']\n",
    "redshift = 0.\n",
    "frac_in_situ = in_situ_fraction(sfr_history, sm_history, redshift, cosmic_age_array)\n",
    "vamock['frac_in_situ'] = frac_in_situ"
   ]
  },
  {
   "cell_type": "code",
   "execution_count": null,
   "metadata": {},
   "outputs": [],
   "source": [
    "fig, ax = plt.subplots(1, 1)\n",
    "\n",
    "bins = np.linspace(0, 1, 50)\n",
    "mask = vamock['obs_sm'] < 10**10\n",
    "__=ax.hist(1-vamock['frac_in_situ'][mask], bins=bins, normed=True, \n",
    "           label=r'$1-F_{\\rm in-situ}$')\n",
    "__=ax.hist(vamock['bt'][mask], bins=bins, normed=True, label='B/T')\n",
    "\n",
    "legend = ax.legend()"
   ]
  },
  {
   "cell_type": "code",
   "execution_count": null,
   "metadata": {},
   "outputs": [],
   "source": [
    "fig, ax = plt.subplots(1, 1)\n",
    "\n",
    "bins = np.linspace(0, 1, 50)\n",
    "\n",
    "mask = vamock['obs_sm'] > 10**11\n",
    "__=ax.hist(1-vamock['frac_in_situ'][mask], bins=bins, normed=True, \n",
    "           label=r'$1-F_{\\rm in-situ}$')\n",
    "__=ax.hist(vamock['bt'][mask], bins=bins, normed=True, label='B/T')\n",
    "\n",
    "legend = ax.legend()"
   ]
  },
  {
   "cell_type": "code",
   "execution_count": null,
   "metadata": {
    "collapsed": true
   },
   "outputs": [],
   "source": []
  }
 ],
 "metadata": {
  "kernelspec": {
   "display_name": "Python [conda root]",
   "language": "python",
   "name": "conda-root-py"
  },
  "language_info": {
   "codemirror_mode": {
    "name": "ipython",
    "version": 2
   },
   "file_extension": ".py",
   "mimetype": "text/x-python",
   "name": "python",
   "nbconvert_exporter": "python",
   "pygments_lexer": "ipython2",
   "version": "2.7.13"
  }
 },
 "nbformat": 4,
 "nbformat_minor": 2
}
